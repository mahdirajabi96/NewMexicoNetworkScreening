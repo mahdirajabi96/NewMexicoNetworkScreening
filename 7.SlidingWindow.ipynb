{
 "cells": [
  {
   "cell_type": "code",
   "execution_count": 1,
   "metadata": {},
   "outputs": [
    {
     "name": "stdout",
     "output_type": "stream",
     "text": [
      "2018-11-06 07:45:33\n"
     ]
    }
   ],
   "source": [
    "# Importing requird python packages\n",
    "# Path to hsmpy package\n",
    "HSMPY_PATH = r'\\\\CHCFPP01\\Guest\\MRajabi\\Python Scripts'\n",
    "import sys, os, arcpy, csv, json, math\n",
    "sys.path.append(HSMPY_PATH)\n",
    "import hsmpy3\n",
    "import matplotlib.pyplot as plt\n",
    "import numpy as np\n",
    "import pandas as pd\n",
    "from datetime import datetime\n",
    "from IPython.display import Image\n",
    "from IPython.core.display import HTML \n",
    "import subprocess \n",
    "import webbrowser\n",
    "import time\n",
    "import copy\n",
    "import scipy\n",
    "from matplotlib.gridspec import GridSpec\n",
    "from __future__ import print_function\n",
    "from mailmerge import MailMerge\n",
    "import shutil\n",
    "import openpyxl\n",
    "from scipy.optimize import curve_fit\n",
    "from time import gmtime, strftime\n",
    "from ipywidgets import FloatProgress\n",
    "from ipywidgets import IntProgress\n",
    "print(strftime(\"%Y-%m-%d %H:%M:%S\"))"
   ]
  },
  {
   "cell_type": "code",
   "execution_count": 2,
   "metadata": {},
   "outputs": [
    {
     "name": "stdout",
     "output_type": "stream",
     "text": [
      "2018-11-06 07:45:33\n"
     ]
    }
   ],
   "source": [
    "# Defining Parameteres\n",
    "print(strftime(\"%Y-%m-%d %H:%M:%S\"))\n",
    "Years = range(2012,2017)\n",
    "MaxOpenProcesses = 15\n",
    "Project_DIR  = r'\\\\CHCFPP01\\Proj\\ILDOT\\650511SAFETYPROGRAM\\4_WorkData\\WO00_OtherStates\\NewMexico\\3_WorkData\\7_NetworkScreening'\n",
    "ReceivedDir  = Project_DIR + '\\\\2.Received_Data'\n",
    "Project_GDB  = Project_DIR + '\\\\5.NM_NS_GDB.gdb'\n",
    "PythonDir   = Project_DIR + '\\\\6.Python_Notebook'\n",
    "\n",
    "Src_Loc  = ReceivedDir + '\\\\crash_asof_11jun2018.csv'\n",
    "Src_Unit = ReceivedDir + '\\\\vehicle_asof_11jun2018.csv'\n",
    "Src_Occ  = ReceivedDir + '\\\\occupant_asof_11jun2018.csv'\n",
    "\n",
    "Src_Ped_Loc  = ReceivedDir + '\\\\Ped_2017_KAB\\\\crashkabped.csv'\n",
    "Src_Ped_Unit = ReceivedDir + '\\\\Ped_2017_KAB\\\\vehiclekabped.csv'\n",
    "Src_Ped_Occ  = ReceivedDir + '\\\\Ped_2017_KAB\\\\occkabped.csv'\n",
    "\n",
    "HPMS105 = {year:ReceivedDir + '\\\\v105\\\\jg_request.gdb\\\\HPMS{}Data'.format(year) for year in Years}\n",
    "HPMS10  = {year:ReceivedDir + '\\\\v10\\\\jg_request.gdb\\\\HPMS{}Data'.format(year) for year in Years}\n",
    "\n",
    "FOU_2017_105 = ReceivedDir + '\\\\v105\\\\jg_request.gdb\\\\HPMS2017Ownership_Urban_FuncSys'\n",
    "FOU_2017_10  = ReceivedDir + '\\\\v10\\\\jg_request.gdb\\\\HPMS2017Ownership_Urban_FuncSys'\n",
    "\n",
    "FHWA_HPMS     = {year:ReceivedDir + '\\\\FHWA_HPMS\\\\newmexico{}\\\\NewMexico{}.shp'.format(year,year) for year in Years}\n",
    "MS2_HPMS_2017 = {year:ReceivedDir + '\\\\NM_HPMS_N2017_A{}.csv'.format(year) for year in Years}\n",
    "\n",
    "Routes  = {year:Project_GDB + '\\\\Routes_{}'.format(year) for year in Years}\n",
    "AttTabs = {year:Project_GDB + '\\\\SegAtt_{}'.format(year) for year in Years}\n",
    "Segs    = {year:Project_GDB + '\\\\Seg_{}'.format(year) for year in Years}\n",
    "CrashData = {year:Project_GDB + '\\\\Crash_{}'.format(year) for year in range(2012,2018)}\n",
    "\n",
    "UTM13N   = arcpy.SpatialReference(26913)\n",
    "NAD83_NM = arcpy.SpatialReference(6529)\n",
    "\n",
    "RouteID = \"ROUTE_ID\"\n",
    "BEG_STA = 'BEG_POINT'\n",
    "END_STA = 'END_POINT'\n",
    "Fields = ['F_SYSTEM','THROUGH_LANES','FACILITY_TYPE','AADT','MEDIAN_TYPE','SPEED_LIMIT','LANE_WIDTH']"
   ]
  },
  {
   "cell_type": "code",
   "execution_count": 3,
   "metadata": {},
   "outputs": [
    {
     "data": {
      "text/plain": [
       "<subprocess.Popen at 0x22757ba6198>"
      ]
     },
     "execution_count": 3,
     "metadata": {},
     "output_type": "execute_result"
    }
   ],
   "source": [
    "hsmpy3.nm.CON_CalculatePSIValues(Project_DIR,HSMPY_PATH,\n",
    "    Segs,\n",
    "    CrashData,\n",
    "    Project_DIR + '\\\\6.Python_Notebook\\\\Seg_SPFs.csv',\n",
    "    Project_DIR + '\\\\8.Deliverable\\\\TopSegments_PSI2.csv',\n",
    "    Project_DIR +'\\\\8.Deliverable\\\\CompiledData.gdb'\n",
    ")"
   ]
  },
  {
   "cell_type": "markdown",
   "metadata": {},
   "source": [
    "Highest risk—5 percent of highway system length, shown in black.\n",
    "• Medium-high risk—10 percent of highway system length, shown in red.\n",
    "• Medium risk—20 percent of highway system length, shown in yellow.\n",
    "• Medium-low risk—25 percent of highway system length, shown in light green.\n",
    "• Lowest risk—40 percent of highway system length, shown in dark green."
   ]
  },
  {
   "cell_type": "code",
   "execution_count": 5,
   "metadata": {},
   "outputs": [
    {
     "name": "stdout",
     "output_type": "stream",
     "text": [
      "2018-10-29 12:26:52\n"
     ]
    },
    {
     "data": {
      "text/html": [
       "<div>\n",
       "<style>\n",
       "    .dataframe thead tr:only-child th {\n",
       "        text-align: right;\n",
       "    }\n",
       "\n",
       "    .dataframe thead th {\n",
       "        text-align: left;\n",
       "    }\n",
       "\n",
       "    .dataframe tbody tr th {\n",
       "        vertical-align: top;\n",
       "    }\n",
       "</style>\n",
       "<table border=\"1\" class=\"dataframe\">\n",
       "  <thead>\n",
       "    <tr style=\"text-align: right;\">\n",
       "      <th></th>\n",
       "      <th>Count</th>\n",
       "      <th>Killed</th>\n",
       "      <th>ClassA</th>\n",
       "      <th>ClassB</th>\n",
       "      <th>PedCrashCount</th>\n",
       "      <th>PedK</th>\n",
       "      <th>PedA</th>\n",
       "      <th>PedB</th>\n",
       "    </tr>\n",
       "    <tr>\n",
       "      <th>Year</th>\n",
       "      <th></th>\n",
       "      <th></th>\n",
       "      <th></th>\n",
       "      <th></th>\n",
       "      <th></th>\n",
       "      <th></th>\n",
       "      <th></th>\n",
       "      <th></th>\n",
       "    </tr>\n",
       "  </thead>\n",
       "  <tbody>\n",
       "    <tr>\n",
       "      <th>2012</th>\n",
       "      <td>4143</td>\n",
       "      <td>362</td>\n",
       "      <td>1592</td>\n",
       "      <td>3456</td>\n",
       "      <td>242</td>\n",
       "      <td>61</td>\n",
       "      <td>58</td>\n",
       "      <td>129</td>\n",
       "    </tr>\n",
       "    <tr>\n",
       "      <th>2013</th>\n",
       "      <td>4069</td>\n",
       "      <td>311</td>\n",
       "      <td>1290</td>\n",
       "      <td>3534</td>\n",
       "      <td>281</td>\n",
       "      <td>53</td>\n",
       "      <td>95</td>\n",
       "      <td>141</td>\n",
       "    </tr>\n",
       "    <tr>\n",
       "      <th>2014</th>\n",
       "      <td>4398</td>\n",
       "      <td>384</td>\n",
       "      <td>1241</td>\n",
       "      <td>3840</td>\n",
       "      <td>350</td>\n",
       "      <td>74</td>\n",
       "      <td>94</td>\n",
       "      <td>189</td>\n",
       "    </tr>\n",
       "    <tr>\n",
       "      <th>2015</th>\n",
       "      <td>4903</td>\n",
       "      <td>298</td>\n",
       "      <td>1325</td>\n",
       "      <td>4511</td>\n",
       "      <td>378</td>\n",
       "      <td>55</td>\n",
       "      <td>126</td>\n",
       "      <td>211</td>\n",
       "    </tr>\n",
       "    <tr>\n",
       "      <th>2016</th>\n",
       "      <td>5048</td>\n",
       "      <td>405</td>\n",
       "      <td>1153</td>\n",
       "      <td>4750</td>\n",
       "      <td>353</td>\n",
       "      <td>77</td>\n",
       "      <td>84</td>\n",
       "      <td>204</td>\n",
       "    </tr>\n",
       "    <tr>\n",
       "      <th>2017</th>\n",
       "      <td>342</td>\n",
       "      <td>74</td>\n",
       "      <td>83</td>\n",
       "      <td>197</td>\n",
       "      <td>342</td>\n",
       "      <td>74</td>\n",
       "      <td>82</td>\n",
       "      <td>191</td>\n",
       "    </tr>\n",
       "  </tbody>\n",
       "</table>\n",
       "</div>"
      ],
      "text/plain": [
       "      Count  Killed  ClassA  ClassB  PedCrashCount  PedK  PedA  PedB\n",
       "Year                                                                \n",
       "2012   4143     362    1592    3456            242    61    58   129\n",
       "2013   4069     311    1290    3534            281    53    95   141\n",
       "2014   4398     384    1241    3840            350    74    94   189\n",
       "2015   4903     298    1325    4511            378    55   126   211\n",
       "2016   5048     405    1153    4750            353    77    84   204\n",
       "2017    342      74      83     197            342    74    82   191"
      ]
     },
     "metadata": {},
     "output_type": "display_data"
    },
    {
     "name": "stdout",
     "output_type": "stream",
     "text": [
      "2018-10-29 12:28:25\n"
     ]
    }
   ],
   "source": [
    "# Read Crash Data\n",
    "print(strftime(\"%Y-%m-%d %H:%M:%S\"))\n",
    "Crash_DF = pd.concat([hsmpy3.common.FCtoDF(CrashData[year],readGeometry=True) for year in range(2012,2018)])\n",
    "Crash_DF['Year'] = [d.year for d in Crash_DF.Date]\n",
    "Crash_DF['PedCrashCount'] = [{True:1,False:0}[sum([k,a,b])>0] for k,a,b in zip(Crash_DF.PedK,Crash_DF.PedA,Crash_DF.PedB)]\n",
    "Crash_DF['Count'] = 1\n",
    "Crash_DF['KAB'] = Crash_DF.Killed + Crash_DF.ClassA + Crash_DF.ClassB\n",
    "Crash_DF.index = ['{}_{}'.format(y,u) for u,y in zip(Crash_DF.UCRnum,Crash_DF.Year)]\n",
    "Crash_DF.index.name = 'CID'\n",
    "Crash_DF = Crash_DF.drop('CID',axis=1)\n",
    "display(pd.DataFrame(Crash_DF.groupby(['Year'])['Count','Killed','ClassA','ClassB','PedCrashCount','PedK','PedA','PedB'].aggregate(np.sum)))\n",
    "print(strftime(\"%Y-%m-%d %H:%M:%S\"))"
   ]
  },
  {
   "cell_type": "code",
   "execution_count": null,
   "metadata": {},
   "outputs": [],
   "source": [
    "RDF = hsmpy3.common.FCtoDF(Routes[2016])\n",
    "RDF.index = RDF.ROUTE_ID\n",
    "RDF = RDF.drop(['Shape_Length','partCount'],axis=1)\n",
    "RDF.shape"
   ]
  },
  {
   "cell_type": "code",
   "execution_count": 66,
   "metadata": {},
   "outputs": [],
   "source": [
    "Segs_DF = hsmpy3.common.FCtoDF(Segs[2016])\n",
    "Segs_DF = Segs_DF.loc[[s.split('-')[2]=='P' for s in Segs_DF.ROUTE_ID]]"
   ]
  },
  {
   "cell_type": "code",
   "execution_count": 264,
   "metadata": {},
   "outputs": [],
   "source": [
    "Segs_DF15 = hsmpy3.common.FCtoDF(Segs[2015])\n",
    "Segs_DF15 = Segs_DF15.loc[[s.split('-')[2]=='P' for s in Segs_DF15.ROUTE_ID]]\n",
    "Segs_DF14 = hsmpy3.common.FCtoDF(Segs[2014])\n",
    "Segs_DF14 = Segs_DF14.loc[[s.split('-')[2]=='P' for s in Segs_DF14.ROUTE_ID]]\n",
    "Segs_DF13 = hsmpy3.common.FCtoDF(Segs[2013])\n",
    "Segs_DF13 = Segs_DF13.loc[[s.split('-')[2]=='P' for s in Segs_DF13.ROUTE_ID]]\n",
    "Segs_DF12 = hsmpy3.common.FCtoDF(Segs[2012])\n",
    "Segs_DF12 = Segs_DF12.loc[[s.split('-')[2]=='P' for s in Segs_DF12.ROUTE_ID]]"
   ]
  },
  {
   "cell_type": "code",
   "execution_count": 93,
   "metadata": {},
   "outputs": [
    {
     "data": {
      "text/html": [
       "<div>\n",
       "<style>\n",
       "    .dataframe thead tr:only-child th {\n",
       "        text-align: right;\n",
       "    }\n",
       "\n",
       "    .dataframe thead th {\n",
       "        text-align: left;\n",
       "    }\n",
       "\n",
       "    .dataframe tbody tr th {\n",
       "        vertical-align: top;\n",
       "    }\n",
       "</style>\n",
       "<table border=\"1\" class=\"dataframe\">\n",
       "  <thead>\n",
       "    <tr style=\"text-align: right;\">\n",
       "      <th></th>\n",
       "      <th>Type</th>\n",
       "      <th>Intercept</th>\n",
       "      <th>AADT</th>\n",
       "      <th>Dispersion</th>\n",
       "    </tr>\n",
       "    <tr>\n",
       "      <th>Type</th>\n",
       "      <th></th>\n",
       "      <th></th>\n",
       "      <th></th>\n",
       "      <th></th>\n",
       "    </tr>\n",
       "  </thead>\n",
       "  <tbody>\n",
       "    <tr>\n",
       "      <th>R2U</th>\n",
       "      <td>R2U</td>\n",
       "      <td>-6.840424</td>\n",
       "      <td>0.574385</td>\n",
       "      <td>0.725390</td>\n",
       "    </tr>\n",
       "    <tr>\n",
       "      <th>R4D</th>\n",
       "      <td>R4D</td>\n",
       "      <td>-7.064281</td>\n",
       "      <td>0.649505</td>\n",
       "      <td>0.858935</td>\n",
       "    </tr>\n",
       "    <tr>\n",
       "      <th>R4U</th>\n",
       "      <td>R4U</td>\n",
       "      <td>-7.612892</td>\n",
       "      <td>0.684523</td>\n",
       "      <td>0.787486</td>\n",
       "    </tr>\n",
       "    <tr>\n",
       "      <th>U2U</th>\n",
       "      <td>U2U</td>\n",
       "      <td>-6.478442</td>\n",
       "      <td>0.422186</td>\n",
       "      <td>0.939196</td>\n",
       "    </tr>\n",
       "    <tr>\n",
       "      <th>U4U</th>\n",
       "      <td>U4U</td>\n",
       "      <td>-7.558023</td>\n",
       "      <td>0.657491</td>\n",
       "      <td>1.546703</td>\n",
       "    </tr>\n",
       "    <tr>\n",
       "      <th>U4D</th>\n",
       "      <td>U4D</td>\n",
       "      <td>-9.348186</td>\n",
       "      <td>0.837544</td>\n",
       "      <td>0.582183</td>\n",
       "    </tr>\n",
       "    <tr>\n",
       "      <th>U6U</th>\n",
       "      <td>U6U</td>\n",
       "      <td>-6.571942</td>\n",
       "      <td>0.553122</td>\n",
       "      <td>0.817989</td>\n",
       "    </tr>\n",
       "  </tbody>\n",
       "</table>\n",
       "</div>"
      ],
      "text/plain": [
       "     Type  Intercept      AADT  Dispersion\n",
       "Type                                      \n",
       "R2U   R2U  -6.840424  0.574385    0.725390\n",
       "R4D   R4D  -7.064281  0.649505    0.858935\n",
       "R4U   R4U  -7.612892  0.684523    0.787486\n",
       "U2U   U2U  -6.478442  0.422186    0.939196\n",
       "U4U   U4U  -7.558023  0.657491    1.546703\n",
       "U4D   U4D  -9.348186  0.837544    0.582183\n",
       "U6U   U6U  -6.571942  0.553122    0.817989"
      ]
     },
     "execution_count": 93,
     "metadata": {},
     "output_type": "execute_result"
    }
   ],
   "source": [
    "SPF = pd.read_csv('Seg_SPFs.csv',index_col=0)\n",
    "SPF.index = SPF.Type\n",
    "SPF\n"
   ]
  },
  {
   "cell_type": "code",
   "execution_count": 4,
   "metadata": {},
   "outputs": [],
   "source": [
    "Loc_DF = pd.read_csv(Src_Loc,low_memory=False)\n",
    "Loc_DF.index = ['{}_{}'.format(y,u) for y,u in zip(Loc_DF.year,Loc_DF.UCRnumber)]\n",
    "Veh_DF = pd.read_csv(Src_Unit,low_memory=False)\n",
    "Veh_DF.index = ['{}_{}'.format(y,u) for y,u in zip(Veh_DF.year,Veh_DF.UCRnumber)]\n",
    "Occ_DF = pd.read_csv(Src_Occ,low_memory=False)\n",
    "Occ_DF.index = ['{}_{}'.format(y,u) for y,u in zip(Occ_DF.year,Occ_DF.UCRnumber)]\n",
    "#Trk_idx = Loc_DF[Loc_DF.TRKinv==1].index"
   ]
  },
  {
   "cell_type": "code",
   "execution_count": 7,
   "metadata": {},
   "outputs": [
    {
     "name": "stdout",
     "output_type": "stream",
     "text": [
      "['Agency', 'Alcinv', 'Analysis', 'Astreet', 'Bstreet', 'CADNumber', 'CaseNumber', 'City', 'Class', 'ClassA', 'ClassB', 'ClassC', 'County', 'CrashDate', 'CrashDirection', 'CrashOccurrence', 'Day', 'DirectionFromLandmark', 'Druginv', 'Fatal_Injury', 'FormID', 'GIS_LAT', 'GIS_LONG', 'GIS_MAINTDIST', 'GIS_Milepost', 'GIS_NATAMER_USCENSUS', 'GIS_Route', 'GIS_SPDIST', 'GIS_TRANSDIST', 'GIS_UTMX', 'GIS_UTMY', 'HZinv', 'HitRun', 'Hour', 'Injured', 'Killed', 'Landmark', 'Light', 'MCinv', 'MaxDam', 'Measurement', 'MeasurementUnit', 'MilitaryTime', 'Month', 'MotorVeh', 'Motorists', 'NMDOTNumber', 'NonLocal', 'NonMotorists', 'NumberofDrawings', 'PECinv', 'PEDinv', 'PropertyDamage', 'ReportDate', 'RoadCharacter', 'RoadGrade', 'SHDTPROP', 'Severity', 'StampDate', 'StationReport', 'SysScanDate', 'System', 'TRKinv', 'TimeArrived', 'TimeNotified', 'TopCFacc', 'Total', 'TraCS', 'TribalJurisdiction', 'UCRnumber', 'Unhurt', 'UrbnRurl', 'Weather', 'WitnessPresent', 'dateAddedDB', 'nVeh', 'pDesc', 'pState', 'pType', 'year']\n",
      "['ACFAvoidNoContactOther', 'ACFAvoidNoContactVe', 'ACFCellPhone', 'ACFDefectiveSteering', 'ACFDefectiveTires', 'ACFDisregardedTrafficSignal', 'ACFDriverInattention', 'ACFDriverlessMovingVe', 'ACFDroveLeftOfCenter', 'ACFExcessiveSpeed', 'ACFFailedToYieldEmgcyVe', 'ACFFailedToYieldPoliceVe', 'ACFFailedToYieldRightOfWay', 'ACFFollowingTooClosely', 'ACFHighSpeedPursuit', 'ACFImproperBacking', 'ACFImproperLaneChange', 'ACFImproperOvertaking', 'ACFInadequateBrakes', 'ACFLowVisibilityDueToSmoke', 'ACFMadeImproperTurn', 'ACFNone', 'ACFOtherImproperDriving', 'ACFOtherMechanicalDefect', 'ACFOtherNoDriverError', 'ACFPassedStopSign', 'ACFPedestrianError', 'ACFRoadDefect', 'ACFSpeed2FastForConditions', 'ACFTexting', 'ACFTrafficControlInopMissing', 'ACFUnderInflOfDrugs', 'ACFUnderInfluenceOfAlcohol', 'ACFVeSkiddedBeforeBrk', 'ALCinv', 'Agency', 'Analysis', 'Belt', 'City', 'Class', 'ClassA', 'ClassB', 'ClassC', 'ConditionAmputee', 'ConditionEyesightImpaired', 'ConditionFatiguedAsleep', 'ConditionHearingImpaired', 'ConditionIllness', 'ConditionMedsDrugsAlcohol', 'ConditionNoAppDefects', 'ConditionOther', 'ConditionOtherText', 'ConditionUnknown', 'County', 'CrashDate', 'DABacking', 'DAGoingStraight', 'DALC', 'DALeftTurn', 'DAOther', 'DAOvertakingPassing', 'DAParked', 'DARightTurn', 'DASlowing', 'DAStartFromPark', 'DAStartInTrafficLane', 'DAStoppedForSignsSignal', 'DAStoppedForTraffic', 'DAUnknown', 'DAUturn', 'DLEndorsements', 'DLExpires', 'DLRestrictions', 'DLState', 'DLStatus', 'DLType', 'DRESID', 'DRUG', 'DRUGinv', 'Day', 'DrAge', 'DrAirbagDeployed', 'DrEMSNum', 'DrEjected', 'DrInjuryCode', 'DrMedTrans', 'DrOPCode', 'DrOPProperlyUsed', 'DrSeatPos', 'DrSex', 'GIS_LAT', 'GIS_LONG', 'GIS_UTMX', 'GIS_UTMY', 'GrossVehicleWeight', 'HZinv', 'HazmatID', 'HazmatName', 'HazmatNum', 'HazmatPlacard', 'HazmatReleased', 'Helmet', 'Hour', 'ICCCarrierCode', 'InterLock', 'InterstateCarrier', 'Killed', 'LeftScene', 'LiabilityInsurance', 'Light', 'MCinv', 'MilitaryTime', 'Month', 'NumberofAxles', 'PECinv', 'PEDinv', 'Passengers', 'PedAtIntAgainstSignal', 'PedAtIntDiagonal', 'PedAtIntNoSignal', 'PedAtIntWithSignal', 'PedNotIntCrosswalk', 'PedNotIntFromBehindObstruct', 'PedNotIntNoCrosswalk', 'PedNotIntOther', 'PedNotIntOtherText', 'PedNotIntPlayinginRoad', 'PedNotIntPushWorkOnVe', 'PedNotIntStanding', 'PedNotIntWalkAgainstTraffic', 'PedNotIntWalkWithTraffic', 'PostedSpeed', 'RoadConditionsVe', 'RoadDesign', 'RoadDesignDivider', 'RoadDesignLanes', 'RoadSurfaceVe', 'SafeSpeed', 'SequenceEvent1', 'SequenceEvent2', 'SequenceEvent3', 'SequenceEvent4', 'Severity', 'SobrietyBAC', 'SobrietyBloodTest', 'SobrietyBreathTest', 'SobrietyConsumeAlcohol', 'SobrietyConsumeCtrlSubtance', 'SobrietyConsumeMeds', 'SobrietyFieldSobrietyTest', 'SobrietyNotConsumeAlcohol', 'SobrietyTestByInst', 'SobrietyTestRefused', 'SobrietyUnknown', 'StreetOn', 'System', 'TRKinv', 'TopCFacc', 'TopCFcar', 'Total', 'TraCS', 'TrafficControlDevice', 'Trailer1LicYear', 'Trailer1Make', 'Trailer1Type', 'Trailer1Year', 'Trailer2LicYear', 'Trailer2Make', 'Trailer2Type', 'Trailer2Year', 'Trailer3LicYear', 'Trailer3Make', 'Trailer3Type', 'Trailer3Year', 'TypeV', 'UCRnumber', 'USDOTNum', 'Unhurt', 'UrbnRurl', 'VeBodystyle', 'VeCargoBody', 'VeColor', 'VeDamage1', 'VeDamage10', 'VeDamage11', 'VeDamage12', 'VeDamage2', 'VeDamage3', 'VeDamage4', 'VeDamage5', 'VeDamage6', 'VeDamage7', 'VeDamage8', 'VeDamage9', 'VeDamageAll', 'VeDamageExtent', 'VeDamageNone', 'VeDamageSeverity', 'VeDamageTop', 'VeDamageUndercarriage', 'VeLicPlateRegYr', 'VeLicPlateState', 'VeMake', 'VeTowed', 'VeTowedDisabled', 'VeUse1', 'VeUse2', 'VeYear', 'VehDirection', 'VehNo', 'vAction', 'vVehNo', 'vViolation', 'year']\n",
      "['Age', 'Agency', 'AirbagDeployed', 'AlcInAcc', 'AlcInCar', 'Analysis', 'Belt', 'City', 'Class', 'County', 'CrashDate', 'DAparked', 'Day', 'DrugInAcc', 'DrugInCar', 'Ejected', 'GIS_LAT', 'GIS_LONG', 'GIS_UTMX', 'GIS_UTMY', 'HZinv', 'Helmet', 'Hour', 'Injury', 'Light', 'MCinv', 'MedTrans', 'MilitaryTime', 'Month', 'OPCode', 'OPProperlyUsed', 'OccNo', 'PECinv', 'PEDinv', 'PPLNo', 'SeatPos', 'Severity', 'Sex', 'System', 'TRKinv', 'TopCFacc', 'TopCFcar', 'TraCS', 'TypeV', 'UCRnumber', 'UrbnRurl', 'VehNo', 'veBodyStyle', 'year']\n"
     ]
    }
   ],
   "source": [
    "l = list(Loc_DF);l.sort();print(l)\n",
    "l = list(Veh_DF);l.sort();print(l)\n",
    "l = list(Occ_DF);l.sort();print(l)"
   ]
  },
  {
   "cell_type": "code",
   "execution_count": 8,
   "metadata": {},
   "outputs": [],
   "source": [
    "idx_C = set(list(Loc_DF.index))\n",
    "idx_V = set(list(Veh_DF.index))\n",
    "idx_O = set(list(Occ_DF.index))"
   ]
  },
  {
   "cell_type": "code",
   "execution_count": 8,
   "metadata": {},
   "outputs": [
    {
     "data": {
      "text/plain": [
       "1      2065\n",
       "2      2887\n",
       "3      9748\n",
       "4       159\n",
       "5        40\n",
       "6       275\n",
       "7       138\n",
       "9     20137\n",
       "10     3697\n",
       "98       68\n",
       "99     1799\n",
       "Name: TrafficControlDevice, dtype: int64"
      ]
     },
     "execution_count": 8,
     "metadata": {},
     "output_type": "execute_result"
    }
   ],
   "source": [
    "Veh_DF.TrafficControlDevice.value_counts().sort_index()"
   ]
  },
  {
   "cell_type": "code",
   "execution_count": 378,
   "metadata": {
    "scrolled": false
   },
   "outputs": [
    {
     "name": "stdout",
     "output_type": "stream",
     "text": [
      "2018-11-05 10:36:30\n"
     ]
    },
    {
     "data": {
      "application/vnd.jupyter.widget-view+json": {
       "model_id": "0d4a9c3a93e245fcaa4475170d0f8466",
       "version_major": 2,
       "version_minor": 0
      },
      "text/plain": [
       "IntProgress(value=0, max=224236)"
      ]
     },
     "metadata": {},
     "output_type": "display_data"
    },
    {
     "name": "stdout",
     "output_type": "stream",
     "text": [
      "2018-11-05 11:15:12\n"
     ]
    }
   ],
   "source": [
    "print(strftime(\"%Y-%m-%d %H:%M:%S\"))\n",
    "PSI_DF = pd.DataFrame()\n",
    "Prg = IntProgress(value=0,min=0,max=Segs_DF.shape[0],step=1)\n",
    "display(Prg)\n",
    "for i,r in Segs_DF.iterrows():\n",
    "    rid = r.ROUTE_ID\n",
    "    bmp = r.BEG_POINT\n",
    "    emp = r.END_POINT\n",
    "    df = Crash_DF[(Crash_DF.RID_P==rid) & (Crash_DF.MP_P>=bmp) & (Crash_DF.MP_P<=emp)]\n",
    "    CL_R = list(df[df.PedCrashCount==1]['MP_P'])\n",
    "    CL_R.sort()\n",
    "    if len(CL_R)==0:\n",
    "        Prg.value+=1\n",
    "        continue\n",
    "    if r.URBAN_CODE in [0,99999]:\n",
    "        SW = 1\n",
    "        Inc = 0.2\n",
    "    else:\n",
    "        SW = 0.25\n",
    "        Inc = .05\n",
    "    df2 = SlidingWindow(bmp,emp,CL_R,SW,Inc)\n",
    "    df3 = DissolveDF(df2)\n",
    "    df3['RID'] = rid\n",
    "    df3['FType'] = r.FType\n",
    "    df3['AADT'] = r.AADT\n",
    "    df3['F_SYSTEM'] = r.F_SYSTEM\n",
    "    df3['FACILITY_TYPE'] = r.FACILITY_TYPE\n",
    "    df3['OWNERSHIP'] = r.OWNERSHIP\n",
    "    df3['URBAN_CODE'] = r.URBAN_CODE\n",
    "    df3['THROUGH_LANES'] = r.THROUGH_LANES\n",
    "    df3['MEDIAN_TYPE'] = r.MEDIAN_TYPE\n",
    "    df3['SPEED_LIMIT'] = r.SPEED_LIMIT\n",
    "    \n",
    "    df3['Length'] = df3.EMP-df3.BMP\n",
    "    #if r.FType in SPF.index and r.AADT>0:\n",
    "    #    df3['a'] = SPF.loc[r.FType,'Intercept']\n",
    "    #    df3['b'] = SPF.loc[r.FType,'AADT']\n",
    "    #    df3['k'] = SPF.loc[r.FType,'Dispersion']\n",
    "    #    df3['k_l'] = df3['k']/SW\n",
    "    #    df3['pred16'] = [math.exp(a)*aadt**b*SW for a,b,aadt in zip(df3.a,df3.b,df3.AADT)]\n",
    "    #    df3['pred15'] = [GetPred(Segs_DF15,rid,bmp1,emp1,a,b,SW) for a,b,bmp1,emp1 in zip(df3.a,df3.b,df3.BMP,df3.EMP)]\n",
    "    #    df3['pred14'] = [GetPred(Segs_DF14,rid,bmp1,emp1,a,b,SW) for a,b,bmp1,emp1 in zip(df3.a,df3.b,df3.BMP,df3.EMP)]\n",
    "    #    df3['pred13'] = [GetPred(Segs_DF13,rid,bmp1,emp1,a,b,SW) for a,b,bmp1,emp1 in zip(df3.a,df3.b,df3.BMP,df3.EMP)]\n",
    "    #    df3['pred12'] = [GetPred(Segs_DF12,rid,bmp1,emp1,a,b,SW) for a,b,bmp1,emp1 in zip(df3.a,df3.b,df3.BMP,df3.EMP)]\n",
    "    #    df3['pred'] = [GetPred_Sum(p12,p13,p14,p15,p16) for p12,p13,p14,p15,p16 in zip(df3.pred16,df3.pred15,df3.pred14,df3.pred13,df3.pred12)]\n",
    "    #    df3['w'] = [1.0/(1.0+k*p) for k,p in zip(df3.k,df3.pred)]\n",
    "    #    df3['exp'] = [p*w+(1-w)*o for p,w,o in zip(df3.pred,df3.w,df3.CrashFreq)]\n",
    "    #    df3['psi'] = df3.exp - df3.pred\n",
    "    PSI_DF = pd.concat([PSI_DF,df3])\n",
    "    Prg.value+=1\n",
    "#PSI_DF.columns = ['BMP', 'EMP', 'CrashFreq', 'RID', 'FType', 'AADT', 'Length', 'SPF_A', 'SPF_B', 'SPF_k', 'Seg_k', 'SPF_Pred', 'EB_w', 'EB_Exp', 'PSI']\n",
    "#PSI_DF = PSI_DF[['RID','BMP', 'EMP','Length','FType', 'AADT', 'CrashFreq',     'SPF_A', 'SPF_B', 'SPF_k', 'Seg_k', 'EB_w', 'SPF_Pred', 'EB_Exp', 'PSI']]\n",
    "#PSI_DF = PSI_DF.sort_values(['RID','BMP'])\n",
    "print(strftime(\"%Y-%m-%d %H:%M:%S\"))"
   ]
  },
  {
   "cell_type": "code",
   "execution_count": 358,
   "metadata": {},
   "outputs": [],
   "source": [
    "PSI_DF['CF_Pred'] = [GetPred_Sum(p12,p13,p14,p15,p16) for p12,p13,p14,p15,p16 in zip(PSI_DF.CF_Pred_2012,PSI_DF.CF_Pred_2013,PSI_DF.CF_Pred_2014,PSI_DF.CF_Pred_2015,PSI_DF.CF_Pred_2016)]\n",
    "PSI_DF['EB_w'] = [1.0/(1.0+k*p) for k,p in zip(PSI_DF.Seg_k,PSI_DF.CF_Pred)]\n",
    "PSI_DF['CF_Exp'] = [p*w+(1-w)*o for p,w,o in zip(PSI_DF.CF_Pred,PSI_DF.EB_w,PSI_DF.CF_Obs)]\n",
    "PSI_DF['PSI'] = PSI_DF.CF_Exp - PSI_DF.CF_Pred"
   ]
  },
  {
   "cell_type": "code",
   "execution_count": 380,
   "metadata": {
    "scrolled": true
   },
   "outputs": [],
   "source": [
    "#PSI_DF[['RID', 'BMP','EMP', 'Length','FType','AADT', 'CrashFreq',  'a', 'b', 'exp', 'k', 'k_l', 'pred', 'psi', 'w']]\n",
    "PSI_DF.rename(columns={'a':'SPF_a','b':'SPF_b','exp':'CF_Exp','pred':'CF_Pred','psi':'PSI','w':'EB_w','k':'SPF_k','k_l':'Seg_k',\n",
    "                      'CrashFreq':'CF_Obs','AADT':'AADT_2016','pred12':'CF_Pred_2012','pred13':'CF_Pred_2013','pred14':'CF_Pred_2014',\n",
    "                      'pred15':'CF_Pred_2015','pred16':'CF_Pred_2016'},inplace=True)\n",
    "PSI_DF = PSI_DF[['RID', 'BMP','EMP', 'Length','FType','AADT_2016',\n",
    "        'F_SYSTEM','FACILITY_TYPE','OWNERSHIP','URBAN_CODE','THROUGH_LANES','MEDIAN_TYPE','SPEED_LIMIT',\n",
    "        'CF_Obs']]"
   ]
  },
  {
   "cell_type": "code",
   "execution_count": 372,
   "metadata": {
    "scrolled": true
   },
   "outputs": [
    {
     "ename": "KeyError",
     "evalue": "\"['CF_Pred' 'CF_Exp' 'PSI' 'CF_Pred_2012' 'CF_Pred_2013' 'CF_Pred_2014'\\n 'CF_Pred_2015' 'CF_Pred_2016' 'SPF_a' 'SPF_b' 'SPF_k' 'Seg_k' 'EB_w'] not in index\"",
     "output_type": "error",
     "traceback": [
      "\u001b[1;31m---------------------------------------------------------------------------\u001b[0m",
      "\u001b[1;31mKeyError\u001b[0m                                  Traceback (most recent call last)",
      "\u001b[1;32m<ipython-input-372-895509e8b483>\u001b[0m in \u001b[0;36m<module>\u001b[1;34m()\u001b[0m\n\u001b[0;32m      6\u001b[0m         \u001b[1;34m'F_SYSTEM'\u001b[0m\u001b[1;33m,\u001b[0m\u001b[1;34m'FACILITY_TYPE'\u001b[0m\u001b[1;33m,\u001b[0m\u001b[1;34m'OWNERSHIP'\u001b[0m\u001b[1;33m,\u001b[0m\u001b[1;34m'URBAN_CODE'\u001b[0m\u001b[1;33m,\u001b[0m\u001b[1;34m'THROUGH_LANES'\u001b[0m\u001b[1;33m,\u001b[0m\u001b[1;34m'MEDIAN_TYPE'\u001b[0m\u001b[1;33m,\u001b[0m\u001b[1;34m'SPEED_LIMIT'\u001b[0m\u001b[1;33m,\u001b[0m\u001b[1;33m\u001b[0m\u001b[0m\n\u001b[0;32m      7\u001b[0m         \u001b[1;34m'CF_Obs'\u001b[0m\u001b[1;33m,\u001b[0m\u001b[1;34m'CF_Pred'\u001b[0m\u001b[1;33m,\u001b[0m\u001b[1;34m'CF_Exp'\u001b[0m\u001b[1;33m,\u001b[0m\u001b[1;34m'PSI'\u001b[0m\u001b[1;33m,\u001b[0m\u001b[1;34m'CF_Pred_2012'\u001b[0m\u001b[1;33m,\u001b[0m\u001b[1;34m'CF_Pred_2013'\u001b[0m\u001b[1;33m,\u001b[0m\u001b[1;34m'CF_Pred_2014'\u001b[0m\u001b[1;33m,\u001b[0m\u001b[1;34m'CF_Pred_2015'\u001b[0m\u001b[1;33m,\u001b[0m\u001b[1;34m'CF_Pred_2016'\u001b[0m\u001b[1;33m,\u001b[0m\u001b[1;33m\u001b[0m\u001b[0m\n\u001b[1;32m----> 8\u001b[1;33m         'SPF_a', 'SPF_b', 'SPF_k', 'Seg_k', 'EB_w']]\n\u001b[0m",
      "\u001b[1;32mC:\\Program Files\\ArcGIS\\Pro\\bin\\Python\\envs\\arcgispro-py3\\lib\\site-packages\\pandas\\core\\frame.py\u001b[0m in \u001b[0;36m__getitem__\u001b[1;34m(self, key)\u001b[0m\n\u001b[0;32m   2054\u001b[0m         \u001b[1;32mif\u001b[0m \u001b[0misinstance\u001b[0m\u001b[1;33m(\u001b[0m\u001b[0mkey\u001b[0m\u001b[1;33m,\u001b[0m \u001b[1;33m(\u001b[0m\u001b[0mSeries\u001b[0m\u001b[1;33m,\u001b[0m \u001b[0mnp\u001b[0m\u001b[1;33m.\u001b[0m\u001b[0mndarray\u001b[0m\u001b[1;33m,\u001b[0m \u001b[0mIndex\u001b[0m\u001b[1;33m,\u001b[0m \u001b[0mlist\u001b[0m\u001b[1;33m)\u001b[0m\u001b[1;33m)\u001b[0m\u001b[1;33m:\u001b[0m\u001b[1;33m\u001b[0m\u001b[0m\n\u001b[0;32m   2055\u001b[0m             \u001b[1;31m# either boolean or fancy integer index\u001b[0m\u001b[1;33m\u001b[0m\u001b[1;33m\u001b[0m\u001b[0m\n\u001b[1;32m-> 2056\u001b[1;33m             \u001b[1;32mreturn\u001b[0m \u001b[0mself\u001b[0m\u001b[1;33m.\u001b[0m\u001b[0m_getitem_array\u001b[0m\u001b[1;33m(\u001b[0m\u001b[0mkey\u001b[0m\u001b[1;33m)\u001b[0m\u001b[1;33m\u001b[0m\u001b[0m\n\u001b[0m\u001b[0;32m   2057\u001b[0m         \u001b[1;32melif\u001b[0m \u001b[0misinstance\u001b[0m\u001b[1;33m(\u001b[0m\u001b[0mkey\u001b[0m\u001b[1;33m,\u001b[0m \u001b[0mDataFrame\u001b[0m\u001b[1;33m)\u001b[0m\u001b[1;33m:\u001b[0m\u001b[1;33m\u001b[0m\u001b[0m\n\u001b[0;32m   2058\u001b[0m             \u001b[1;32mreturn\u001b[0m \u001b[0mself\u001b[0m\u001b[1;33m.\u001b[0m\u001b[0m_getitem_frame\u001b[0m\u001b[1;33m(\u001b[0m\u001b[0mkey\u001b[0m\u001b[1;33m)\u001b[0m\u001b[1;33m\u001b[0m\u001b[0m\n",
      "\u001b[1;32mC:\\Program Files\\ArcGIS\\Pro\\bin\\Python\\envs\\arcgispro-py3\\lib\\site-packages\\pandas\\core\\frame.py\u001b[0m in \u001b[0;36m_getitem_array\u001b[1;34m(self, key)\u001b[0m\n\u001b[0;32m   2098\u001b[0m             \u001b[1;32mreturn\u001b[0m \u001b[0mself\u001b[0m\u001b[1;33m.\u001b[0m\u001b[0mtake\u001b[0m\u001b[1;33m(\u001b[0m\u001b[0mindexer\u001b[0m\u001b[1;33m,\u001b[0m \u001b[0maxis\u001b[0m\u001b[1;33m=\u001b[0m\u001b[1;36m0\u001b[0m\u001b[1;33m,\u001b[0m \u001b[0mconvert\u001b[0m\u001b[1;33m=\u001b[0m\u001b[1;32mFalse\u001b[0m\u001b[1;33m)\u001b[0m\u001b[1;33m\u001b[0m\u001b[0m\n\u001b[0;32m   2099\u001b[0m         \u001b[1;32melse\u001b[0m\u001b[1;33m:\u001b[0m\u001b[1;33m\u001b[0m\u001b[0m\n\u001b[1;32m-> 2100\u001b[1;33m             \u001b[0mindexer\u001b[0m \u001b[1;33m=\u001b[0m \u001b[0mself\u001b[0m\u001b[1;33m.\u001b[0m\u001b[0mloc\u001b[0m\u001b[1;33m.\u001b[0m\u001b[0m_convert_to_indexer\u001b[0m\u001b[1;33m(\u001b[0m\u001b[0mkey\u001b[0m\u001b[1;33m,\u001b[0m \u001b[0maxis\u001b[0m\u001b[1;33m=\u001b[0m\u001b[1;36m1\u001b[0m\u001b[1;33m)\u001b[0m\u001b[1;33m\u001b[0m\u001b[0m\n\u001b[0m\u001b[0;32m   2101\u001b[0m             \u001b[1;32mreturn\u001b[0m \u001b[0mself\u001b[0m\u001b[1;33m.\u001b[0m\u001b[0mtake\u001b[0m\u001b[1;33m(\u001b[0m\u001b[0mindexer\u001b[0m\u001b[1;33m,\u001b[0m \u001b[0maxis\u001b[0m\u001b[1;33m=\u001b[0m\u001b[1;36m1\u001b[0m\u001b[1;33m,\u001b[0m \u001b[0mconvert\u001b[0m\u001b[1;33m=\u001b[0m\u001b[1;32mTrue\u001b[0m\u001b[1;33m)\u001b[0m\u001b[1;33m\u001b[0m\u001b[0m\n\u001b[0;32m   2102\u001b[0m \u001b[1;33m\u001b[0m\u001b[0m\n",
      "\u001b[1;32mC:\\Program Files\\ArcGIS\\Pro\\bin\\Python\\envs\\arcgispro-py3\\lib\\site-packages\\pandas\\core\\indexing.py\u001b[0m in \u001b[0;36m_convert_to_indexer\u001b[1;34m(self, obj, axis, is_setter)\u001b[0m\n\u001b[0;32m   1229\u001b[0m                 \u001b[0mmask\u001b[0m \u001b[1;33m=\u001b[0m \u001b[0mcheck\u001b[0m \u001b[1;33m==\u001b[0m \u001b[1;33m-\u001b[0m\u001b[1;36m1\u001b[0m\u001b[1;33m\u001b[0m\u001b[0m\n\u001b[0;32m   1230\u001b[0m                 \u001b[1;32mif\u001b[0m \u001b[0mmask\u001b[0m\u001b[1;33m.\u001b[0m\u001b[0many\u001b[0m\u001b[1;33m(\u001b[0m\u001b[1;33m)\u001b[0m\u001b[1;33m:\u001b[0m\u001b[1;33m\u001b[0m\u001b[0m\n\u001b[1;32m-> 1231\u001b[1;33m                     \u001b[1;32mraise\u001b[0m \u001b[0mKeyError\u001b[0m\u001b[1;33m(\u001b[0m\u001b[1;34m'%s not in index'\u001b[0m \u001b[1;33m%\u001b[0m \u001b[0mobjarr\u001b[0m\u001b[1;33m[\u001b[0m\u001b[0mmask\u001b[0m\u001b[1;33m]\u001b[0m\u001b[1;33m)\u001b[0m\u001b[1;33m\u001b[0m\u001b[0m\n\u001b[0m\u001b[0;32m   1232\u001b[0m \u001b[1;33m\u001b[0m\u001b[0m\n\u001b[0;32m   1233\u001b[0m                 \u001b[1;32mreturn\u001b[0m \u001b[0m_values_from_object\u001b[0m\u001b[1;33m(\u001b[0m\u001b[0mindexer\u001b[0m\u001b[1;33m)\u001b[0m\u001b[1;33m\u001b[0m\u001b[0m\n",
      "\u001b[1;31mKeyError\u001b[0m: \"['CF_Pred' 'CF_Exp' 'PSI' 'CF_Pred_2012' 'CF_Pred_2013' 'CF_Pred_2014'\\n 'CF_Pred_2015' 'CF_Pred_2016' 'SPF_a' 'SPF_b' 'SPF_k' 'Seg_k' 'EB_w'] not in index\""
     ]
    }
   ],
   "source": [
    "#PSI_DF[['RID', 'BMP','EMP', 'Length','FType','AADT', 'CrashFreq',  'a', 'b', 'exp', 'k', 'k_l', 'pred', 'psi', 'w']]\n",
    "PSI_DF.rename(columns={'a':'SPF_a','b':'SPF_b','exp':'CF_Exp','pred':'CF_Pred','psi':'PSI','w':'EB_w','k':'SPF_k','k_l':'Seg_k',\n",
    "                      'CrashFreq':'CF_Obs','AADT':'AADT_2016','pred12':'CF_Pred_2012','pred13':'CF_Pred_2013','pred14':'CF_Pred_2014',\n",
    "                      'pred15':'CF_Pred_2015','pred16':'CF_Pred_2016'},inplace=True)\n",
    "PSI_DF = PSI_DF[['RID', 'BMP','EMP', 'Length','FType','AADT_2016',\n",
    "        'F_SYSTEM','FACILITY_TYPE','OWNERSHIP','URBAN_CODE','THROUGH_LANES','MEDIAN_TYPE','SPEED_LIMIT',\n",
    "        'CF_Obs','CF_Pred','CF_Exp','PSI','CF_Pred_2012','CF_Pred_2013','CF_Pred_2014','CF_Pred_2015','CF_Pred_2016', \n",
    "        'SPF_a', 'SPF_b', 'SPF_k', 'Seg_k', 'EB_w']]"
   ]
  },
  {
   "cell_type": "code",
   "execution_count": 363,
   "metadata": {},
   "outputs": [
    {
     "data": {
      "text/plain": [
       "5.0"
      ]
     },
     "execution_count": 363,
     "metadata": {},
     "output_type": "execute_result"
    }
   ],
   "source": [
    "def GetPred_Sum(p12,p13,p14,p15,p16):\n",
    "    df = pd.DataFrame(columns=['Pred'],index=range(2012,2017))\n",
    "    df.loc[2012,'Pred'] = p12\n",
    "    df.loc[2013,'Pred'] = p13    \n",
    "    df.loc[2014,'Pred'] = p14    \n",
    "    df.loc[2015,'Pred'] = p15    \n",
    "    df.loc[2016,'Pred'] = p16\n",
    "    df = df[df.Pred>0]\n",
    "    if df.shape[0]>0:\n",
    "        return(5*df.Pred.mean())\n",
    "    else:\n",
    "        return(0)\n",
    "GetPred_Sum(0,1,0,0,0)"
   ]
  },
  {
   "cell_type": "code",
   "execution_count": 361,
   "metadata": {},
   "outputs": [
    {
     "data": {
      "text/plain": [
       "0.079884931947675278"
      ]
     },
     "execution_count": 361,
     "metadata": {},
     "output_type": "execute_result"
    }
   ],
   "source": [
    "def GetPred(Seg_DF,rid,bmp,emp,a,b,SW):\n",
    "    df = Seg_DF[Seg_DF.ROUTE_ID==rid][['ROUTE_ID','BEG_POINT','END_POINT','AADT']]\n",
    "    #display(df)\n",
    "    df = df.sort_values('BEG_POINT')\n",
    "    df = df[(df.BEG_POINT>=bmp) | ((df.BEG_POINT<bmp) & (df.END_POINT>bmp))]\n",
    "    df = df[(df.END_POINT<=emp) | ((df.BEG_POINT<emp) & (df.END_POINT>emp))]\n",
    "    df.set_value(list(df.index)[0],'BEG_POINT',bmp)\n",
    "    df.set_value(list(df.index)[-1],'END_POINT',emp)\n",
    "    df['Length'] = df.END_POINT - df.BEG_POINT\n",
    "    df['a'] = a\n",
    "    df['b'] = b\n",
    "    df['pred'] = [math.exp(a)*aadt**b*leng for a,b,aadt,leng in zip(df.a,df.b,df.AADT,df.Length)]\n",
    "    #df['pred'] = df['pred']/df['Length']*SW\n",
    "    #display(df)\n",
    "    o = df.pred.sum()/df.Length.sum()*SW\n",
    "    return(o)\n",
    "GetPred(Segs_DF15,'US-84-P',91,92,-7,0.6,1)"
   ]
  },
  {
   "cell_type": "code",
   "execution_count": null,
   "metadata": {
    "scrolled": true
   },
   "outputs": [],
   "source": [
    "Int_DF = hsmpy3.common.FCtoDF(Project_GDB+'\\\\Int_2016',readGeometry=True)\n",
    "Int_DF.index = Int_DF.Int_ID\n",
    "Int_DF['X'] = [s.firstPoint.X for s in Int_DF.Shape]\n",
    "Int_DF['Y'] = [s.firstPoint.Y for s in Int_DF.Shape]\n",
    "df = pd.DataFrame(Crash_DF[Crash_DF.Int_ID>0].groupby('Int_ID')['KAB'].aggregate([np.size,sum]))\n",
    "Int_DF['CF_Obs'] = df.loc[Int_DF.index,'size']\n",
    "Int_DF.CF_Obs = Int_DF.CF_Obs.fillna(0)\n",
    "Int_DF[Int_DF.CF_Obs>0].to_excel('Int_CF.xlsx')"
   ]
  },
  {
   "cell_type": "code",
   "execution_count": 412,
   "metadata": {},
   "outputs": [
    {
     "name": "stdout",
     "output_type": "stream",
     "text": [
      "2018-11-05 13:26:20\n"
     ]
    },
    {
     "data": {
      "text/plain": [
       "<Result 'true'>"
      ]
     },
     "execution_count": 412,
     "metadata": {},
     "output_type": "execute_result"
    }
   ],
   "source": [
    "print(strftime(\"%Y-%m-%d %H:%M:%S\"))\n",
    "GDB = Project_DIR +'\\\\8.Deliverable\\\\CompiledData.gdb'\n",
    "TopSeg_PSI_Table = hsmpy3.common.CreateOutPath(MainFile=GDB+'\\\\TopSeg_PSI',Extension='',appendix='table')\n",
    "arcpy.management.CopyRows(\n",
    "    in_rows=Project_DIR + '\\\\8.Deliverable\\\\TopSegments_PSI.xlsx\\\\Sheet1$',\n",
    "    out_table=TopSeg_PSI_Table\n",
    ")\n",
    "TopSeg_PSI_Layer = hsmpy3.common.CreateOutLayer('TopSeg_PSI_Layer')\n",
    "arcpy.lr.MakeRouteEventLayer(\n",
    "    in_routes = GDB+'\\\\Routes_2016', \n",
    "    route_id_field = 'ROUTE_ID', \n",
    "    in_table = TopSeg_PSI_Table, \n",
    "    in_event_properties = 'RID Line BMP EMP', \n",
    "    out_layer = TopSeg_PSI_Layer\n",
    ")\n",
    "TopSeg_PSI_FC = hsmpy3.common.CreateOutPath(MainFile=GDB+'\\\\TopSeg',Extension='',appendix='PSI')\n",
    "arcpy.management.CopyFeatures(\n",
    "    in_features=TopSeg_PSI_Layer,\n",
    "    out_feature_class=TopSeg_PSI_FC\n",
    ")\n",
    "arcpy.management.Delete(TopSeg_PSI_Layer)\n",
    "arcpy.management.Delete(TopSeg_PSI_Table)\n",
    "print(strftime(\"%Y-%m-%d %H:%M:%S\"))"
   ]
  },
  {
   "cell_type": "code",
   "execution_count": 415,
   "metadata": {},
   "outputs": [
    {
     "data": {
      "text/plain": [
       "'2991'"
      ]
     },
     "execution_count": 415,
     "metadata": {},
     "output_type": "execute_result"
    }
   ],
   "source": [
    "arcpy.GetCount_management(TopSeg_PSI_FC)[0]"
   ]
  },
  {
   "cell_type": "code",
   "execution_count": 396,
   "metadata": {},
   "outputs": [],
   "source": [
    "Int_DF[Int_DF.CF_Obs>0].to_excel('Int_CF.xlsx')"
   ]
  },
  {
   "cell_type": "code",
   "execution_count": 376,
   "metadata": {},
   "outputs": [],
   "source": [
    "PSI_DF[(PSI_DF.CF_Obs>0)].to_excel('Corridors_CF.xlsx')"
   ]
  },
  {
   "cell_type": "code",
   "execution_count": 382,
   "metadata": {},
   "outputs": [],
   "source": [
    "PSI_DF[(PSI_DF.CF_Obs>0)].to_excel('Segments_PedCrashes_CF.xlsx')"
   ]
  },
  {
   "cell_type": "code",
   "execution_count": 202,
   "metadata": {},
   "outputs": [],
   "source": [
    "PSI_DF.columns = ['EMP','AADT', 'BMP', 'RID','FType','Length', 'CrashFreq', 'SPF_A', 'SPF_B', 'EB_Exp', 'SPF_k', 'SPF_Pred', 'Seg_k', 'PSI', 'EB_w']\n",
    "df = PSI_DF[['RID','BMP','EMP','Length','FType','AADT','CrashFreq','SPF_A', 'SPF_B', 'SPF_k', 'Seg_k', 'SPF_Pred', 'EB_w', 'EB_Exp', 'PSI']]\n",
    "df = df.sort_values(['RID','BMP'])\n",
    "df.to_csv('PSI3.csv')"
   ]
  },
  {
   "cell_type": "code",
   "execution_count": 221,
   "metadata": {},
   "outputs": [],
   "source": [
    "def DissolveDF(df):\n",
    "    df1 = pd.DataFrame(columns=['BMP','EMP','CrashFreq'])\n",
    "    j = 0\n",
    "    for i,r in df.iterrows():\n",
    "        if i==0:\n",
    "            j += 1\n",
    "            df1.loc[j] = [r.BMP,r.EMP,r.CrashFreq]\n",
    "        else:\n",
    "            if r.CrashFreq>df1.loc[j,'CrashFreq']:\n",
    "                if r.BMP < df1.loc[j,'BMP']:\n",
    "                    df1.loc[j] = [df1.loc[j-1,'EMP'],r.EMP,r.CrashFreq]\n",
    "                else:\n",
    "                    df1.loc[j,'EMP'] = r.BMP\n",
    "                    j += 1\n",
    "                    df1.loc[j] = [r.BMP,r.EMP,r.CrashFreq]\n",
    "            if r.CrashFreq<df1.loc[j,'CrashFreq']:\n",
    "               j += 1\n",
    "               df1.loc[j] = [df1.loc[j-1,'EMP'],r.EMP,r.CrashFreq]\n",
    "            if r.CrashFreq==df1.loc[j,'CrashFreq']:\n",
    "                df1.loc[j,'EMP'] = r.EMP\n",
    "    if df1.EMP.max()<df.EMP.max():\n",
    "        df1.loc[j,'EMP'] = df.EMP.max()\n",
    "    return(df1)"
   ]
  },
  {
   "cell_type": "code",
   "execution_count": 156,
   "metadata": {
    "scrolled": false
   },
   "outputs": [],
   "source": [
    "def PlotSWRes(df,CL):\n",
    "    plt.figure(figsize=(10,6))\n",
    "    plt.gca().set_xlim([min(df.BMP),max(df.EMP)])\n",
    "    plt.gca().set_ylim([min(df.CrashFreq)-1,max(df.CrashFreq)+1])\n",
    "    plt.axhline(y=0, color='r', linestyle='-',label = 'Route (Linear Referencing)')\n",
    "    plt.plot(CL,[0 for i in CL],'o',color = 'red',label='Crash Mileposts')\n",
    "    plt.plot(df.Cen,df.CrashFreq,'-|',color='green',label = 'Sliding Window Residuals')\n",
    "    Flag = False\n",
    "    for i,r in df.iterrows():\n",
    "        if r.Chosen:\n",
    "            if not Flag:\n",
    "                plt.plot([r.BMP,r.EMP],[r.CrashFreq,r.CrashFreq],'-|',color='b',label='High Windows')\n",
    "                Flag = True\n",
    "            else:\n",
    "                plt.plot([r.BMP,r.EMP],[r.CrashFreq,r.CrashFreq],'-|',color='b')\n",
    "            plt.plot([r.BMP,r.EMP],[0,0],'-|',color='b')\n",
    "            plt.text((r.BMP+r.EMP)/2.0, -0.2, r.CrashFreq, fontsize=12,color='b')\n",
    "    plt.grid()\n",
    "    plt.xlabel('Milepost')\n",
    "    plt.ylabel('Excess Expected Average Crash Frequency with EB Adjustment')\n",
    "    plt.legend(loc='upper right')\n",
    "    #L=plt.legend()\n",
    "    #L.get_texts()[0].set_text('make it short')\n",
    "    plt.savefig('slidingwindow.png',transparent=True)\n",
    "    plt.show()\n",
    "def SlidingWindow(BMP,EMP,CL,Len,Inc):\n",
    "    n = 0\n",
    "    if EMP-BMP>Len:\n",
    "        n = int(float(EMP-BMP-Len)/Inc)\n",
    "    BMPList = [BMP + i*Inc for i in range(0,n+1)]\n",
    "    df = pd.DataFrame(columns = ['BMP','EMP','CrashFreq'])\n",
    "    for i,bmp in enumerate(BMPList):\n",
    "        if bmp+Len <= EMP:\n",
    "            cl = [c for c in CL if c>=bmp and c<bmp+Len]\n",
    "            df.loc[i] = [bmp,bmp+Len,len(cl)]\n",
    "        else:\n",
    "            cl = [c for c in CL if c>=bmp and c<=EMP]\n",
    "            df.loc[i] = [bmp,EMP,len(cl)]\n",
    "    Max_EMP = df.EMP.max()\n",
    "    if Max_EMP<EMP:\n",
    "        cl = [c for c in CL if c>=EMP-Len and c<=EMP]\n",
    "        df.loc[i+1] = [EMP-Len,EMP,len(cl)]\n",
    "        \n",
    "    #ccdf = FindSegs(df,CL)\n",
    "    #chosen = []\n",
    "    #for i,r in df.iterrows():\n",
    "    #    flag = False\n",
    "    #    for j,k in ccdf.iterrows():\n",
    "    #        if k.BMP==r.BMP and k.EMP==r.EMP:\n",
    "    #            flag = True\n",
    "    #            break\n",
    "    #    chosen.append(flag)\n",
    "    #df['Chosen'] = chosen\n",
    "    return(df)\n",
    "def ConvertIDtoFreq(s):\n",
    "    if s == '':\n",
    "        return 0\n",
    "    else:\n",
    "        return len(s.split(';'))\n",
    "def FindSegs(df,CL):\n",
    "    def OverlapControl(Seg,SegList):\n",
    "        for seg in SegList:\n",
    "            if (Seg[0]>= seg[0] and Seg[0]<= seg[1]) or (Seg[1]>= seg[0] and Seg[1]<= seg[1]):\n",
    "                return False\n",
    "        return True\n",
    "    vcdf = pd.DataFrame(df.CrashFreq.value_counts()).sort_index(ascending=False)\n",
    "    cidf = pd.DataFrame(df.CrashIDs.value_counts()).sort_index()\n",
    "    cidf['CrashFreq'] = [ConvertIDtoFreq(s) for s in cidf.index]\n",
    "    cidf['ID'] = cidf.index\n",
    "    cidf=cidf.sort_values(by=['CrashFreq','CrashIDs'],ascending=False)\n",
    "    bmp = []\n",
    "    emp = []\n",
    "    for i,r in cidf.iterrows():\n",
    "        sdf = df[df.CrashIDs == r.name].copy()\n",
    "        cl = [CL[int(j)] for j in r.name.split(';') if r.name!='']\n",
    "        diff = []\n",
    "        for j,k in sdf.iterrows():\n",
    "            b = 0;e = 0\n",
    "            if len(cl)>0:\n",
    "                b = min(cl)-k.BMP \n",
    "                e = k.EMP-max(cl)\n",
    "            diff.append(abs(b-e))\n",
    "        sdf['Diff'] = diff\n",
    "        sdf = sdf.sort_values('Diff')\n",
    "        bmp.append(sdf.iloc[0]['BMP'])\n",
    "        emp.append(sdf.iloc[0]['EMP'])\n",
    "        #display(sdf)\n",
    "        #print(cl)\n",
    "    cidf['BMP'] = bmp\n",
    "    cidf['EMP'] = emp\n",
    "    chosenSegs = []\n",
    "    res = []\n",
    "    for i,r in cidf.iterrows():\n",
    "        flag = OverlapControl([r.BMP,r.EMP],chosenSegs)\n",
    "        if flag:\n",
    "            chosenSegs.append([r.BMP,r.EMP])\n",
    "        res.append(flag)\n",
    "    cidf['Chosen'] = res\n",
    "    ccdf = cidf[cidf.Chosen == True].copy()\n",
    "    return(ccdf)\n",
    "        "
   ]
  },
  {
   "cell_type": "code",
   "execution_count": 28,
   "metadata": {
    "scrolled": false
   },
   "outputs": [
    {
     "data": {
      "image/png": "[encoded data removed]",
      "text/plain": [
       "<matplotlib.figure.Figure at 0x20c66370>"
      ]
     },
     "metadata": {},
     "output_type": "display_data"
    },
    {
     "data": {
      "text/html": [
       "<div>\n",
       "<table border=\"1\" class=\"dataframe\">\n",
       "  <thead>\n",
       "    <tr style=\"text-align: right;\">\n",
       "      <th></th>\n",
       "      <th>BMP</th>\n",
       "      <th>Cen</th>\n",
       "      <th>EMP</th>\n",
       "      <th>CrashFreq</th>\n",
       "      <th>CrashIDs</th>\n",
       "      <th>Chosen</th>\n",
       "      <th>Expected</th>\n",
       "      <th>Predicted</th>\n",
       "    </tr>\n",
       "  </thead>\n",
       "  <tbody>\n",
       "    <tr>\n",
       "      <th>3</th>\n",
       "      <td>0.6</td>\n",
       "      <td>1.1</td>\n",
       "      <td>1.6</td>\n",
       "      <td>1.51</td>\n",
       "      <td>1;2;3</td>\n",
       "      <td>True</td>\n",
       "      <td>2.01</td>\n",
       "      <td>0.5</td>\n",
       "    </tr>\n",
       "    <tr>\n",
       "      <th>9</th>\n",
       "      <td>1.8</td>\n",
       "      <td>2.3</td>\n",
       "      <td>2.8</td>\n",
       "      <td>0.84</td>\n",
       "      <td>4;5</td>\n",
       "      <td>True</td>\n",
       "      <td>1.34</td>\n",
       "      <td>0.5</td>\n",
       "    </tr>\n",
       "    <tr>\n",
       "      <th>23</th>\n",
       "      <td>4.6</td>\n",
       "      <td>5.1</td>\n",
       "      <td>5.6</td>\n",
       "      <td>0.84</td>\n",
       "      <td>6;7</td>\n",
       "      <td>True</td>\n",
       "      <td>1.34</td>\n",
       "      <td>0.5</td>\n",
       "    </tr>\n",
       "    <tr>\n",
       "      <th>29</th>\n",
       "      <td>5.8</td>\n",
       "      <td>6.3</td>\n",
       "      <td>6.8</td>\n",
       "      <td>0.84</td>\n",
       "      <td>8;9</td>\n",
       "      <td>True</td>\n",
       "      <td>1.34</td>\n",
       "      <td>0.5</td>\n",
       "    </tr>\n",
       "    <tr>\n",
       "      <th>37</th>\n",
       "      <td>7.4</td>\n",
       "      <td>7.9</td>\n",
       "      <td>8.4</td>\n",
       "      <td>0.17</td>\n",
       "      <td>10</td>\n",
       "      <td>True</td>\n",
       "      <td>0.67</td>\n",
       "      <td>0.5</td>\n",
       "    </tr>\n",
       "  </tbody>\n",
       "</table>\n",
       "</div>"
      ],
      "text/plain": [
       "    BMP  Cen  EMP  CrashFreq CrashIDs Chosen  Expected  Predicted\n",
       "3   0.6  1.1  1.6       1.51    1;2;3   True      2.01        0.5\n",
       "9   1.8  2.3  2.8       0.84      4;5   True      1.34        0.5\n",
       "23  4.6  5.1  5.6       0.84      6;7   True      1.34        0.5\n",
       "29  5.8  6.3  6.8       0.84      8;9   True      1.34        0.5\n",
       "37  7.4  7.9  8.4       0.17       10   True      0.67        0.5"
      ]
     },
     "metadata": {},
     "output_type": "display_data"
    }
   ],
   "source": [
    "CL = [0.2,1,1.1,1.4,2,2.5,5,5.3,6,6.8,8,9]\n",
    "df = SlidingWindow(BMP=0,EMP=10,CL = CL,Len=1,Inc=0.2)\n",
    "df['Expected'] = df['CrashFreq'] * 0.67\n",
    "df['Predicted'] = 0.5\n",
    "df['CrashFreq'] = df['Expected'] - df['Predicted']\n",
    "PlotSWRes(df,CL)\n",
    "#df.to_html(\"deleteme.html\")\n",
    "#url = \"http://localhost:8888/tree/Downloads/NM/deleteme.html\"\n",
    "#webbrowser.open(url,new=2)\n",
    "display(df[df.Chosen])"
   ]
  }
 ],
 "metadata": {
  "kernelspec": {
   "display_name": "Python 3",
   "language": "python",
   "name": "python3"
  },
  "language_info": {
   "codemirror_mode": {
    "name": "ipython",
    "version": 3
   },
   "file_extension": ".py",
   "mimetype": "text/x-python",
   "name": "python",
   "nbconvert_exporter": "python",
   "pygments_lexer": "ipython3",
   "version": "3.7.1"
  }
 },
 "nbformat": 4,
 "nbformat_minor": 2
}
