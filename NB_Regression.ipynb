{
 "cells": [
  {
   "cell_type": "code",
   "execution_count": null,
   "metadata": {},
   "outputs": [],
   "source": [
    "import pandas as pd"
   ]
  },
  {
   "cell_type": "code",
   "execution_count": null,
   "metadata": {},
   "outputs": [],
   "source": [
    "def NB_ProbabilityMassDistribution(k,r,p):\n",
    "    import math\n",
    "    num_succ = k\n",
    "    num_fail = r\n",
    "    tot_trials = k+r\n",
    "    prob_succss = p\n",
    "    prob_fail = 1-p\n",
    "    prob_each_sequence = prob_succss**num_succ * prob_fail**num_fail\n",
    "    number_seq = math.factorail(tot_trials-1)/math.factorial(num_succ)\n",
    "    pmd = prob_each_sequence*number_seq"
   ]
  }
 ],
 "metadata": {
  "kernelspec": {
   "display_name": "Arcpy 3",
   "language": "python",
   "name": "arcpro"
  },
  "language_info": {
   "codemirror_mode": {
    "name": "ipython",
    "version": 3
   },
   "file_extension": ".py",
   "mimetype": "text/x-python",
   "name": "python",
   "nbconvert_exporter": "python",
   "pygments_lexer": "ipython3",
   "version": "3.6.6"
  }
 },
 "nbformat": 4,
 "nbformat_minor": 2
}
